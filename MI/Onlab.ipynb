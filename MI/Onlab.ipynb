{
  "nbformat": 4,
  "nbformat_minor": 0,
  "metadata": {
    "colab": {
      "name": "Onlab.ipynb",
      "provenance": [],
      "collapsed_sections": []
    },
    "kernelspec": {
      "name": "python3",
      "display_name": "Python 3"
    }
  },
  "cells": [
    {
      "cell_type": "code",
      "metadata": {
        "id": "VDU9UqFLwoP5",
        "colab_type": "code",
        "outputId": "27d1cc8b-2f7b-46a5-e90d-326d5e84d623",
        "colab": {
          "base_uri": "https://localhost:8080/",
          "height": 129
        }
      },
      "source": [
        "from google.colab import drive\n",
        "drive.mount('/content/drive')\n",
        "\n"
      ],
      "execution_count": 0,
      "outputs": [
        {
          "output_type": "stream",
          "text": [
            "Go to this URL in a browser: https://accounts.google.com/o/oauth2/auth?client_id=947318989803-6bn6qk8qdgf4n4g3pfee6491hc0brc4i.apps.googleusercontent.com&redirect_uri=urn%3aietf%3awg%3aoauth%3a2.0%3aoob&response_type=code&scope=email%20https%3a%2f%2fwww.googleapis.com%2fauth%2fdocs.test%20https%3a%2f%2fwww.googleapis.com%2fauth%2fdrive%20https%3a%2f%2fwww.googleapis.com%2fauth%2fdrive.photos.readonly%20https%3a%2f%2fwww.googleapis.com%2fauth%2fpeopleapi.readonly\n",
            "\n",
            "Enter your authorization code:\n",
            "··········\n",
            "Mounted at /content/drive\n"
          ],
          "name": "stdout"
        }
      ]
    },
    {
      "cell_type": "markdown",
      "metadata": {
        "id": "xG88ABkNUice",
        "colab_type": "text"
      },
      "source": [
        "Transform xml data into pandas dataframe"
      ]
    },
    {
      "cell_type": "code",
      "metadata": {
        "id": "nqexamoUq4ql",
        "colab_type": "code",
        "outputId": "318b181b-850d-48a6-c8f3-8787ff6ffa2c",
        "colab": {
          "base_uri": "https://localhost:8080/",
          "height": 311
        }
      },
      "source": [
        "import xml.sax\n",
        "import xml.etree.ElementTree as ET\n",
        "import pandas\n",
        "\n",
        "class GroupHandler(xml.sax.ContentHandler):\n",
        "    def __init__(self):\n",
        "      self.data = {'Id':[],\n",
        "              'Score':[],\n",
        "              'FavoriteCount':[],\n",
        "              'ViewCount':[],\n",
        "              'AnswerCount':[],\n",
        "              'CommentCount':[]}\n",
        "\n",
        "      self.inTags = False\n",
        "      self.currentTag = \"\"\n",
        "\n",
        "    def startElement(self, name, attrs):\n",
        "        if name == \"Tags\":\n",
        "            self.inTags = True\n",
        "        if not self.inTags:\n",
        "          self.currentTag = name\n",
        "          \n",
        "\n",
        "    def characters(self, content):\n",
        "      if not self.inTags:\n",
        "        if self.currentTag == \"Id\":\n",
        "            self.data[\"Id\"].append(content)        \n",
        "        if self.currentTag == \"Score\":\n",
        "            self.data[\"Score\"].append(content)\n",
        "        if self.currentTag == \"FavoriteCount\":\n",
        "            self.data[\"FavoriteCount\"].append(content)\n",
        "        if self.currentTag == \"ViewCount\":\n",
        "            self.data[\"ViewCount\"].append(content)\n",
        "        if self.currentTag == \"AnswerCount\":\n",
        "            self.data[\"AnswerCount\"].append(content)\n",
        "        if self.currentTag == \"CommentCount\":\n",
        "            self.data[\"CommentCount\"].append(content)\n",
        "\n",
        "    def endElement(self,name):\n",
        "        if self.inTags and name == \"Tags\":\n",
        "          self.inTags = False\n",
        "\n",
        "\n",
        "handler = GroupHandler()\n",
        "parser = xml.sax.make_parser()\n",
        "parser.setContentHandler(handler)\n",
        "parser.parse('drive/My Drive/onlab/SmallData_noText_works.xml')\n",
        "\n",
        "print()\n",
        "\n",
        "print(list(map( lambda key: (key,len(handler.data[key])),handler.data.keys())))\n",
        "\n",
        "# Create DataFrame\n",
        "dataFrame = pandas.DataFrame(handler.data)\n",
        " \n",
        "# Print the output.\n",
        "print(dataFrame)\n"
      ],
      "execution_count": 0,
      "outputs": [
        {
          "output_type": "stream",
          "text": [
            "\n",
            "[('Id', 100), ('Score', 100), ('FavoriteCount', 100), ('ViewCount', 100), ('AnswerCount', 100), ('CommentCount', 100)]\n",
            "     Id Score FavoriteCount ViewCount AnswerCount CommentCount\n",
            "0     4   645            49     45103          13            3\n",
            "1     6   290            11     18713           6            0\n",
            "2     9  1754           438    574705          61            5\n",
            "3    11  1461           537    152779          37            3\n",
            "4    13   597           147    182042          24           10\n",
            "..  ...   ...           ...       ...         ...          ...\n",
            "95  761    17             0       693           7            0\n",
            "96  766    35             3      3095           6            0\n",
            "97  769    38             5     33044          10            1\n",
            "98  773   463           204    264508          12            1\n",
            "99  805    14             1      2073           5            0\n",
            "\n",
            "[100 rows x 6 columns]\n"
          ],
          "name": "stdout"
        }
      ]
    },
    {
      "cell_type": "markdown",
      "metadata": {
        "id": "gIfPrusOUMW-",
        "colab_type": "text"
      },
      "source": [
        "Normalize data"
      ]
    },
    {
      "cell_type": "code",
      "metadata": {
        "id": "rDijDiJdCHJ0",
        "colab_type": "code",
        "outputId": "7ca595cd-626e-4bd8-92ab-7efd672753f3",
        "colab": {
          "base_uri": "https://localhost:8080/",
          "height": 274
        }
      },
      "source": [
        "from sklearn.preprocessing import MinMaxScaler\n",
        "\n",
        "normalizedDataFrame = dataFrame\n",
        "scaler = MinMaxScaler() \n",
        "scaled_values = scaler.fit_transform(dataFrame) \n",
        "normalizedDataFrame.loc[:,:] = scaled_values\n",
        "print(normalizedDataFrame)"
      ],
      "execution_count": 0,
      "outputs": [
        {
          "output_type": "stream",
          "text": [
            "          Id     Score  FavoriteCount  ViewCount  AnswerCount  CommentCount\n",
            "0   0.000000  0.119124       0.007535   0.075588     0.200000      0.176471\n",
            "1   0.002497  0.052105       0.001692   0.030938     0.083333      0.000000\n",
            "2   0.006242  0.328488       0.067354   0.971655     1.000000      0.294118\n",
            "3   0.008739  0.273173       0.082577   0.257772     0.600000      0.176471\n",
            "4   0.011236  0.110062       0.022605   0.307284     0.383333      0.588235\n",
            "..       ...       ...            ...        ...          ...           ...\n",
            "95  0.945069  0.000566       0.000000   0.000448     0.100000      0.000000\n",
            "96  0.951311  0.003965       0.000461   0.004512     0.083333      0.000000\n",
            "97  0.955056  0.004531       0.000769   0.055185     0.150000      0.058824\n",
            "98  0.960050  0.084765       0.031370   0.446813     0.183333      0.058824\n",
            "99  1.000000  0.000000       0.000154   0.002783     0.066667      0.000000\n",
            "\n",
            "[100 rows x 6 columns]\n"
          ],
          "name": "stdout"
        }
      ]
    },
    {
      "cell_type": "code",
      "metadata": {
        "id": "qAfScZjXI-oi",
        "colab_type": "code",
        "colab": {}
      },
      "source": [
        "# from sklearn.preprocessing import StandardScaler\n",
        "\n",
        "# standardisedDataFrame = dataFrame\n",
        "# scaler = StandardScaler() \n",
        "# scaled_values = scaler.fit_transform(dataFrame) \n",
        "# standardisedDataFrame.loc[:,:] = scaled_values\n",
        "# print(standardisedDataFrame)"
      ],
      "execution_count": 0,
      "outputs": []
    },
    {
      "cell_type": "markdown",
      "metadata": {
        "id": "EVSz6CQlT3uL",
        "colab_type": "text"
      },
      "source": [
        "Create training and validation sets"
      ]
    },
    {
      "cell_type": "code",
      "metadata": {
        "id": "Lde4HM7NR-fP",
        "colab_type": "code",
        "outputId": "ff227e8a-4f1f-45d6-db2c-b1a55a5cb28e",
        "colab": {
          "base_uri": "https://localhost:8080/",
          "height": 1000
        }
      },
      "source": [
        "dataset=dataFrame.values\n",
        "test_split=0.1\n",
        "valid_split=0.1\n",
        "\n",
        "inputData = dataset[:,1:6]\n",
        "\n",
        "validation_index = int(inputData.shape[0]*(1-valid_split-test_split))\n",
        "test_index = int(inputData.shape[0]*(1-test_split))\n",
        "\n",
        "inputData_test = inputData[test_index:]\n",
        "inputData_valid = inputData[validation_index:test_index]\n",
        "inputData = inputData[:validation_index]\n",
        "\n",
        "print(inputData)\n",
        "#print(inputData_valid)\n",
        "#print(inputData_test)\n"
      ],
      "execution_count": 0,
      "outputs": [
        {
          "output_type": "stream",
          "text": [
            "[[1.19124032e-01 7.53498385e-03 7.55883796e-02 2.00000000e-01\n",
            "  1.76470588e-01]\n",
            " [5.21049651e-02 1.69152699e-03 3.09375159e-02 8.33333333e-02\n",
            "  0.00000000e+00]\n",
            " [3.28487823e-01 6.73535291e-02 9.71654569e-01 1.00000000e+00\n",
            "  2.94117647e-01]\n",
            " [2.73173494e-01 8.25772720e-02 2.57772025e-01 6.00000000e-01\n",
            "  1.76470588e-01]\n",
            " [1.10062299e-01 2.26049516e-02 3.07283894e-01 3.83333333e-01\n",
            "  5.88235294e-01]\n",
            " [7.38153672e-02 8.76518530e-03 2.13938379e-01 1.50000000e-01\n",
            "  2.35294118e-01]\n",
            " [2.22767604e-02 2.15285253e-03 1.39229819e-01 1.00000000e-01\n",
            "  0.00000000e+00]\n",
            " [3.15272796e-02 3.07550361e-03 1.23672233e-01 1.33333333e-01\n",
            "  1.76470588e-01]\n",
            " [5.68246177e-02 1.23020145e-02 8.19704584e-02 3.66666667e-01\n",
            "  9.41176471e-01]\n",
            " [2.88842741e-02 3.84437952e-03 1.24907365e-01 8.33333333e-02\n",
            "  0.00000000e+00]\n",
            " [2.49197659e-02 1.07642626e-03 1.97688781e-02 1.33333333e-01\n",
            "  0.00000000e+00]\n",
            " [1.32150274e-02 3.07550361e-04 1.53850058e-02 1.16666667e-01\n",
            "  0.00000000e+00]\n",
            " [2.32206910e-02 3.84437952e-03 9.72624063e-02 1.16666667e-01\n",
            "  1.17647059e-01]\n",
            " [1.51028884e-02 4.61325542e-04 1.02160635e-02 1.66666667e-02\n",
            "  0.00000000e+00]\n",
            " [4.79516708e-02 1.69152699e-02 5.87178316e-02 1.16666667e-01\n",
            "  0.00000000e+00]\n",
            " [4.49310931e-02 4.92080578e-03 3.54946449e-01 3.66666667e-01\n",
            "  0.00000000e+00]\n",
            " [1.56692467e-02 3.07550361e-04 4.05766205e-02 1.00000000e-01\n",
            "  0.00000000e+00]\n",
            " [6.04115537e-03 3.07550361e-04 4.23159569e-03 0.00000000e+00\n",
            "  0.00000000e+00]\n",
            " [1.26486691e-02 7.68875903e-04 7.02333215e-03 5.00000000e-02\n",
            "  0.00000000e+00]\n",
            " [5.47479705e-03 0.00000000e+00 1.72410876e-03 1.66666667e-02\n",
            "  5.88235294e-02]\n",
            " [5.85236927e-03 1.53775181e-04 1.77419082e-02 5.00000000e-02\n",
            "  0.00000000e+00]\n",
            " [6.04115537e-03 3.07550361e-04 8.53594572e-03 3.33333333e-02\n",
            "  0.00000000e+00]\n",
            " [1.92561827e-02 3.38305398e-03 9.24538518e-02 1.66666667e-01\n",
            "  1.17647059e-01]\n",
            " [1.47253162e-02 2.61417807e-03 6.67749522e-02 1.50000000e-01\n",
            "  0.00000000e+00]\n",
            " [2.77515575e-02 1.38397663e-02 9.26467354e-02 3.33333333e-02\n",
            "  0.00000000e+00]\n",
            " [2.94506324e-02 1.01491619e-02 2.01258819e-02 2.33333333e-01\n",
            "  0.00000000e+00]\n",
            " [5.66358316e-03 3.07550361e-04 2.50241105e-02 1.16666667e-01\n",
            "  0.00000000e+00]\n",
            " [8.30658864e-03 0.00000000e+00 7.44970644e-03 1.66666667e-02\n",
            "  1.76470588e-01]\n",
            " [4.71965263e-03 3.07550361e-04 1.66996599e-03 0.00000000e+00\n",
            "  0.00000000e+00]\n",
            " [1.75571078e-02 3.38305398e-03 1.19855168e-01 2.50000000e-01\n",
            "  4.11764706e-01]\n",
            " [1.47253162e-02 7.68875903e-04 2.31967920e-02 2.83333333e-01\n",
            "  0.00000000e+00]\n",
            " [1.32150274e-02 3.38305398e-03 1.59819299e-01 6.66666667e-02\n",
            "  2.94117647e-01]\n",
            " [3.20936379e-03 0.00000000e+00 7.91837978e-04 0.00000000e+00\n",
            "  0.00000000e+00]\n",
            " [6.98508590e-03 3.07550361e-04 4.94391148e-03 1.33333333e-01\n",
            "  0.00000000e+00]\n",
            " [1.17047385e-02 1.53775181e-03 2.97835981e-02 1.16666667e-01\n",
            "  0.00000000e+00]\n",
            " [1.45365301e-02 2.46040289e-03 1.29722688e-02 1.00000000e-01\n",
            "  1.76470588e-01]\n",
            " [8.11780253e-03 1.84530217e-03 2.89650272e-01 1.33333333e-01\n",
            "  5.88235294e-02]\n",
            " [5.51255428e-02 3.09088113e-02 1.57274588e-01 4.66666667e-01\n",
            "  5.88235294e-02]\n",
            " [1.17047385e-02 1.07642626e-03 2.40038577e-02 1.00000000e-01\n",
            "  2.35294118e-01]\n",
            " [6.60751369e-03 3.07550361e-04 1.09334552e-02 3.33333333e-02\n",
            "  0.00000000e+00]\n",
            " [1.83122522e-02 3.53682916e-03 1.59201733e-01 1.66666667e-01\n",
            "  0.00000000e+00]\n",
            " [1.00056636e-02 3.53682916e-03 2.66873086e-02 1.16666667e-01\n",
            "  5.88235294e-02]\n",
            " [9.25051916e-03 0.00000000e+00 3.72400724e-03 5.00000000e-02\n",
            "  0.00000000e+00]\n",
            " [3.96450821e-03 3.07550361e-04 5.64438353e-03 5.00000000e-02\n",
            "  0.00000000e+00]\n",
            " [1.11383802e-02 1.53775181e-03 1.02431349e-02 1.16666667e-01\n",
            "  0.00000000e+00]\n",
            " [4.34208042e-03 7.68875903e-04 4.62497674e-02 3.33333333e-02\n",
            "  0.00000000e+00]\n",
            " [1.30262413e-02 2.46040289e-03 6.73332995e-02 5.00000000e-02\n",
            "  0.00000000e+00]\n",
            " [3.96450821e-03 0.00000000e+00 3.20626703e-03 3.33333333e-02\n",
            "  0.00000000e+00]\n",
            " [1.09495941e-02 2.76795325e-03 2.91118894e-02 1.33333333e-01\n",
            "  1.76470588e-01]\n",
            " [3.39814990e-03 4.61325542e-04 1.40229768e-02 3.33333333e-02\n",
            "  0.00000000e+00]\n",
            " [3.02057769e-03 1.53775181e-04 2.89325415e-03 6.66666667e-02\n",
            "  0.00000000e+00]\n",
            " [3.02057769e-03 4.61325542e-04 3.45836929e-03 6.66666667e-02\n",
            "  0.00000000e+00]\n",
            " [1.42722296e-01 2.22974012e-02 9.59288023e-01 2.83333333e-01\n",
            "  5.88235294e-02]\n",
            " [1.98225411e-02 5.99723205e-03 5.07419251e-02 3.50000000e-01\n",
            "  1.17647059e-01]\n",
            " [2.09552577e-02 2.78333077e-02 1.30546673e-01 2.00000000e-01\n",
            "  0.00000000e+00]\n",
            " [6.79629979e-03 0.00000000e+00 6.19765494e-03 1.50000000e-01\n",
            "  0.00000000e+00]\n",
            " [1.20823107e-02 1.69152699e-03 3.22470941e-02 6.66666667e-02\n",
            "  1.17647059e-01]\n",
            " [1.01944497e-02 1.07642626e-03 1.26288006e-02 1.83333333e-01\n",
            "  1.17647059e-01]\n",
            " [2.68076270e-02 1.33784407e-02 3.39058931e-01 5.50000000e-01\n",
            "  5.88235294e-02]\n",
            " [7.77798754e-02 4.73627557e-02 1.70583558e-01 3.50000000e-01\n",
            "  0.00000000e+00]\n",
            " [1.01944497e-02 1.23020145e-03 1.35898347e-02 0.00000000e+00\n",
            "  5.88235294e-02]\n",
            " [5.09722484e-03 0.00000000e+00 5.22477708e-03 3.33333333e-02\n",
            "  0.00000000e+00]\n",
            " [1.54804606e-02 5.07458096e-03 1.12545894e-01 1.16666667e-01\n",
            "  5.88235294e-02]\n",
            " [3.96450821e-03 1.53775181e-04 3.57849855e-03 0.00000000e+00\n",
            "  0.00000000e+00]\n",
            " [2.26543326e-03 0.00000000e+00 9.50882358e-04 3.33333333e-02\n",
            "  0.00000000e+00]\n",
            " [7.17387200e-03 1.53775181e-03 1.68197892e-02 1.16666667e-01\n",
            "  0.00000000e+00]\n",
            " [4.71965263e-03 0.00000000e+00 4.09623877e-03 5.00000000e-02\n",
            "  0.00000000e+00]\n",
            " [1.32150274e-03 1.53775181e-04 0.00000000e+00 0.00000000e+00\n",
            "  0.00000000e+00]\n",
            " [6.98508590e-03 6.15100723e-04 3.23300002e-02 1.66666667e-02\n",
            "  0.00000000e+00]\n",
            " [5.09722484e-03 1.99907735e-03 2.31612608e-02 3.33333333e-02\n",
            "  0.00000000e+00]\n",
            " [1.13271663e-03 1.53775181e-04 1.95929141e-03 5.00000000e-02\n",
            "  0.00000000e+00]\n",
            " [7.92901642e-03 2.15285253e-03 1.41820212e-02 1.00000000e-01\n",
            "  0.00000000e+00]\n",
            " [1.00000000e+00 1.00000000e+00 1.00000000e+00 1.83333333e-01\n",
            "  1.00000000e+00]\n",
            " [1.32150274e-03 9.22651084e-04 1.42513916e-02 6.66666667e-02\n",
            "  5.88235294e-02]\n",
            " [5.47479705e-03 3.07550361e-04 5.18755393e-03 0.00000000e+00\n",
            "  5.88235294e-02]\n",
            " [4.56862375e-02 1.06104875e-02 4.01661506e-01 4.16666667e-01\n",
            "  5.88235294e-02]\n",
            " [2.26543326e-03 7.68875903e-04 1.05206166e-02 2.16666667e-01\n",
            "  0.00000000e+00]\n",
            " [7.17387200e-03 2.76795325e-03 9.03608954e-02 1.33333333e-01\n",
            "  1.17647059e-01]\n",
            " [5.47479705e-03 1.23020145e-03 7.85154730e-02 3.33333333e-02\n",
            "  5.88235294e-02]\n",
            " [4.53086653e-03 3.07550361e-04 1.75456407e-03 6.66666667e-02\n",
            "  2.35294118e-01]]\n"
          ],
          "name": "stdout"
        }
      ]
    },
    {
      "cell_type": "code",
      "metadata": {
        "id": "Q3qAb2SdI5UR",
        "colab_type": "code",
        "colab": {}
      },
      "source": [
        "# XML pars valuable data\n",
        "#         -> Word2Vec\n",
        "#         -> Tag implementation"
      ],
      "execution_count": 0,
      "outputs": []
    },
    {
      "cell_type": "code",
      "metadata": {
        "id": "IXR-ecC7Fuir",
        "colab_type": "code",
        "outputId": "a56c0bbc-34df-4fef-c9a5-fce63e3b1d76",
        "colab": {
          "base_uri": "https://localhost:8080/",
          "height": 35
        }
      },
      "source": [
        "from keras.models import Sequential\n",
        "from keras.layers import Dense\n",
        "from keras.callbacks import EarlyStopping\n",
        "from keras.callbacks import ModelCheckpoint\n",
        "\n",
        "# Early Stopping to avoid overfitting the training data\n",
        "patience=40\n",
        "early_stopping=EarlyStopping(patience=patience, verbose=1)\n",
        "# Save the weights\n",
        "checkpointer=ModelCheckpoint(filepath=\"weights.hdf5\", save_best_only=True, verbose =1)\n",
        "\n",
        "# Define Model\n",
        "model = Sequential()\n",
        "\n",
        "# Define Loss-function"
      ],
      "execution_count": 0,
      "outputs": [
        {
          "output_type": "stream",
          "text": [
            "Using TensorFlow backend.\n"
          ],
          "name": "stderr"
        }
      ]
    },
    {
      "cell_type": "code",
      "metadata": {
        "id": "9AkyB6Q4Gnnq",
        "colab_type": "code",
        "colab": {}
      },
      "source": [
        "# Train the model\n",
        "\n",
        "# Validate the model"
      ],
      "execution_count": 0,
      "outputs": []
    },
    {
      "cell_type": "code",
      "metadata": {
        "id": "Upx_m4GzG1hR",
        "colab_type": "code",
        "colab": {}
      },
      "source": [
        "# After training is finished\n",
        "# Get the encoding model (discard the decoder model)\n",
        "\n",
        "# Do hieracrchical clustering\n",
        "\n",
        "# Visualize results"
      ],
      "execution_count": 0,
      "outputs": []
    }
  ]
}